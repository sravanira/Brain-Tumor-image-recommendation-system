{
  "metadata": {
    "kernelspec": {
      "language": "python",
      "display_name": "Python 3",
      "name": "python3"
    },
    "language_info": {
      "name": "python",
      "version": "3.10.12",
      "mimetype": "text/x-python",
      "codemirror_mode": {
        "name": "ipython",
        "version": 3
      },
      "pygments_lexer": "ipython3",
      "nbconvert_exporter": "python",
      "file_extension": ".py"
    },
    "colab": {
      "provenance": []
    }
  },
  "nbformat_minor": 0,
  "nbformat": 4,
  "cells": [
    {
      "cell_type": "code",
      "source": [
        "\n",
        "\n",
        "import numpy as np\n",
        "import pandas as pd\n",
        "import os\n",
        "for dirname, _, filenames in os.walk('/kaggle/input'):\n",
        "    for filename in filenames:\n",
        "        print(os.path.join(dirname, filename))\n",
        "\n"
      ],
      "metadata": {
        "_uuid": "8f2839f25d086af736a60e9eeb907d3b93b6e0e5",
        "_cell_guid": "b1076dfc-b9ad-4769-8c92-a6c4dae69d19",
        "execution": {
          "iopub.status.busy": "2023-09-26T13:11:07.868771Z",
          "iopub.execute_input": "2023-09-26T13:11:07.869722Z",
          "iopub.status.idle": "2023-09-26T13:11:08.313220Z",
          "shell.execute_reply.started": "2023-09-26T13:11:07.869678Z",
          "shell.execute_reply": "2023-09-26T13:11:08.311904Z"
        },
        "trusted": true,
        "id": "n-AqUK7Hp_QL",
        "outputId": "8e431109-c95c-46e6-e741-b3a88bb9f9fd"
      },
      "execution_count": null,
      "outputs": [
        {
          "name": "stdout",
          "text": "/kaggle/input/tumor-images-csv/MRI images.csv\n/kaggle/input/tumor-images/DL Project MRI/Te-noTr_0002.jpg\n/kaggle/input/tumor-images/DL Project MRI/Te-glTr_0001.jpg\n/kaggle/input/tumor-images/DL Project MRI/Te-piTr_0000.jpg\n/kaggle/input/tumor-images/DL Project MRI/Te-meTr_0004.jpg\n/kaggle/input/tumor-images/DL Project MRI/Te-piTr_0002.jpg\n/kaggle/input/tumor-images/DL Project MRI/Te-glTr_0003.jpg\n/kaggle/input/tumor-images/DL Project MRI/Te-noTr_0001.jpg\n/kaggle/input/tumor-images/DL Project MRI/Te-noTr_0000.jpg\n/kaggle/input/tumor-images/DL Project MRI/Te-meTr_0003.jpg\n/kaggle/input/tumor-images/DL Project MRI/Te-piTr_0004.jpg\n/kaggle/input/tumor-images/DL Project MRI/Te-glTr_0000.jpg\n/kaggle/input/tumor-images/DL Project MRI/Te-meTr_0002.jpg\n/kaggle/input/tumor-images/DL Project MRI/Te-piTr_0003.jpg\n/kaggle/input/tumor-images/DL Project MRI/Te-noTr_0003.jpg\n/kaggle/input/tumor-images/DL Project MRI/Te-glTr_0002.jpg\n/kaggle/input/tumor-images/DL Project MRI/Te-meTr_0001.jpg\n/kaggle/input/tumor-images/DL Project MRI/Te-meTr_0000.jpg\n/kaggle/input/tumor-images/DL Project MRI/Te-piTr_0001.jpg\n/kaggle/input/tumor-images/DL Project MRI/Te-noTr_0004.jpg\n/kaggle/input/tumor-images/DL Project MRI/Te-glTr_0004.jpg\n",
          "output_type": "stream"
        }
      ]
    },
    {
      "cell_type": "code",
      "source": [
        "import numpy as np\n",
        "import pandas as pd\n",
        "import os\n",
        "import re\n",
        "import tensorflow as tf\n",
        "from tensorflow.keras.layers import Conv2D, MaxPooling2D, GlobalAveragePooling2D, Activation, Dropout, Flatten, Dense, Input, Layer\n",
        "from tensorflow.keras.applications import VGG16\n",
        "from tensorflow.keras.models import Model, Sequential\n",
        "from tensorflow.keras.preprocessing.image import ImageDataGenerator, load_img, img_to_array\n",
        "import matplotlib.pyplot as plt\n",
        "import seaborn as sns\n",
        "\n",
        "plt.rcParams['font.size'] = 16"
      ],
      "metadata": {
        "execution": {
          "iopub.status.busy": "2023-09-26T13:11:08.315014Z",
          "iopub.execute_input": "2023-09-26T13:11:08.315672Z",
          "iopub.status.idle": "2023-09-26T13:11:20.203153Z",
          "shell.execute_reply.started": "2023-09-26T13:11:08.315637Z",
          "shell.execute_reply": "2023-09-26T13:11:20.201381Z"
        },
        "trusted": true,
        "id": "tkAbO2wKp_QP"
      },
      "execution_count": null,
      "outputs": []
    },
    {
      "cell_type": "code",
      "source": [
        "img_path = '/kaggle/input/tumor-images/DL Project MRI'\n",
        "img_df = pd.read_csv('/kaggle/input/tumor-images-csv/MRI images.csv')\n"
      ],
      "metadata": {
        "execution": {
          "iopub.status.busy": "2023-09-26T13:11:20.205320Z",
          "iopub.execute_input": "2023-09-26T13:11:20.206111Z",
          "iopub.status.idle": "2023-09-26T13:11:20.228031Z",
          "shell.execute_reply.started": "2023-09-26T13:11:20.206067Z",
          "shell.execute_reply": "2023-09-26T13:11:20.226417Z"
        },
        "trusted": true,
        "id": "ICrpXBmBp_QQ"
      },
      "execution_count": null,
      "outputs": []
    },
    {
      "cell_type": "code",
      "source": [
        "img_df.head()"
      ],
      "metadata": {
        "execution": {
          "iopub.status.busy": "2023-09-26T13:11:20.232347Z",
          "iopub.execute_input": "2023-09-26T13:11:20.233935Z",
          "iopub.status.idle": "2023-09-26T13:11:20.263006Z",
          "shell.execute_reply.started": "2023-09-26T13:11:20.233870Z",
          "shell.execute_reply": "2023-09-26T13:11:20.261725Z"
        },
        "trusted": true,
        "id": "z8WpEV_Ip_QR",
        "outputId": "749d7e1b-19b6-4a05-e081-0ecc401847ca"
      },
      "execution_count": null,
      "outputs": [
        {
          "execution_count": 4,
          "output_type": "execute_result",
          "data": {
            "text/plain": "             id          filename    type  \\\n0  Te-glTr_0000  Te-glTr_0000.jpg  glioma   \n1  Te-glTr_0001  Te-glTr_0001.jpg  glioma   \n2  Te-glTr_0002  Te-glTr_0002.jpg  glioma   \n3  Te-glTr_0003  Te-glTr_0003.jpg  glioma   \n4  Te-glTr_0004  Te-glTr_0004.jpg  glioma   \n\n                                                link  \n0  https://storage.googleapis.com/kagglesdsdata/d...  \n1  https://storage.googleapis.com/kagglesdsdata/d...  \n2  https://storage.googleapis.com/kagglesdsdata/d...  \n3  https://storage.googleapis.com/kagglesdsdata/d...  \n4  https://storage.googleapis.com/kagglesdsdata/d...  ",
            "text/html": "<div>\n<style scoped>\n    .dataframe tbody tr th:only-of-type {\n        vertical-align: middle;\n    }\n\n    .dataframe tbody tr th {\n        vertical-align: top;\n    }\n\n    .dataframe thead th {\n        text-align: right;\n    }\n</style>\n<table border=\"1\" class=\"dataframe\">\n  <thead>\n    <tr style=\"text-align: right;\">\n      <th></th>\n      <th>id</th>\n      <th>filename</th>\n      <th>type</th>\n      <th>link</th>\n    </tr>\n  </thead>\n  <tbody>\n    <tr>\n      <th>0</th>\n      <td>Te-glTr_0000</td>\n      <td>Te-glTr_0000.jpg</td>\n      <td>glioma</td>\n      <td>https://storage.googleapis.com/kagglesdsdata/d...</td>\n    </tr>\n    <tr>\n      <th>1</th>\n      <td>Te-glTr_0001</td>\n      <td>Te-glTr_0001.jpg</td>\n      <td>glioma</td>\n      <td>https://storage.googleapis.com/kagglesdsdata/d...</td>\n    </tr>\n    <tr>\n      <th>2</th>\n      <td>Te-glTr_0002</td>\n      <td>Te-glTr_0002.jpg</td>\n      <td>glioma</td>\n      <td>https://storage.googleapis.com/kagglesdsdata/d...</td>\n    </tr>\n    <tr>\n      <th>3</th>\n      <td>Te-glTr_0003</td>\n      <td>Te-glTr_0003.jpg</td>\n      <td>glioma</td>\n      <td>https://storage.googleapis.com/kagglesdsdata/d...</td>\n    </tr>\n    <tr>\n      <th>4</th>\n      <td>Te-glTr_0004</td>\n      <td>Te-glTr_0004.jpg</td>\n      <td>glioma</td>\n      <td>https://storage.googleapis.com/kagglesdsdata/d...</td>\n    </tr>\n  </tbody>\n</table>\n</div>"
          },
          "metadata": {}
        }
      ]
    },
    {
      "cell_type": "code",
      "source": [
        "img_df['filename'] = img_df['id'].astype(str) + '.jpg'"
      ],
      "metadata": {
        "execution": {
          "iopub.status.busy": "2023-09-26T13:11:20.264473Z",
          "iopub.execute_input": "2023-09-26T13:11:20.264849Z",
          "iopub.status.idle": "2023-09-26T13:11:20.273264Z",
          "shell.execute_reply.started": "2023-09-26T13:11:20.264815Z",
          "shell.execute_reply": "2023-09-26T13:11:20.272292Z"
        },
        "trusted": true,
        "id": "7x-KjorJp_QS"
      },
      "execution_count": null,
      "outputs": []
    },
    {
      "cell_type": "code",
      "source": [
        "img_df"
      ],
      "metadata": {
        "execution": {
          "iopub.status.busy": "2023-09-26T13:11:20.274602Z",
          "iopub.execute_input": "2023-09-26T13:11:20.276048Z",
          "iopub.status.idle": "2023-09-26T13:11:20.298370Z",
          "shell.execute_reply.started": "2023-09-26T13:11:20.275948Z",
          "shell.execute_reply": "2023-09-26T13:11:20.297379Z"
        },
        "trusted": true,
        "id": "GK_fg-ofp_QS",
        "outputId": "122b779e-6fef-4a2f-a901-5cb942b2f17e"
      },
      "execution_count": null,
      "outputs": [
        {
          "execution_count": 6,
          "output_type": "execute_result",
          "data": {
            "text/plain": "              id          filename        type  \\\n0   Te-glTr_0000  Te-glTr_0000.jpg      glioma   \n1   Te-glTr_0001  Te-glTr_0001.jpg      glioma   \n2   Te-glTr_0002  Te-glTr_0002.jpg      glioma   \n3   Te-glTr_0003  Te-glTr_0003.jpg      glioma   \n4   Te-glTr_0004  Te-glTr_0004.jpg      glioma   \n5   Te-meTr_0000  Te-meTr_0000.jpg  meningioma   \n6   Te-meTr_0001  Te-meTr_0001.jpg  meningioma   \n7   Te-meTr_0002  Te-meTr_0002.jpg  meningioma   \n8   Te-meTr_0003  Te-meTr_0003.jpg  meningioma   \n9   Te-meTr_0004  Te-meTr_0004.jpg  meningioma   \n10  Te-noTr_0000  Te-noTr_0000.jpg     notumor   \n11  Te-noTr_0001  Te-noTr_0001.jpg     notumor   \n12  Te-noTr_0002  Te-noTr_0002.jpg     notumor   \n13  Te-noTr_0003  Te-noTr_0003.jpg     notumor   \n14  Te-noTr_0004  Te-noTr_0004.jpg     notumor   \n15  Te-piTr_0000  Te-piTr_0000.jpg   pituitary   \n16  Te-piTr_0001  Te-piTr_0001.jpg   pituitary   \n17  Te-piTr_0002  Te-piTr_0002.jpg   pituitary   \n18  Te-piTr_0003  Te-piTr_0003.jpg   pituitary   \n19  Te-piTr_0004  Te-piTr_0004.jpg   pituitary   \n\n                                                 link  \n0   https://storage.googleapis.com/kagglesdsdata/d...  \n1   https://storage.googleapis.com/kagglesdsdata/d...  \n2   https://storage.googleapis.com/kagglesdsdata/d...  \n3   https://storage.googleapis.com/kagglesdsdata/d...  \n4   https://storage.googleapis.com/kagglesdsdata/d...  \n5   https://storage.googleapis.com/kagglesdsdata/d...  \n6   https://storage.googleapis.com/kagglesdsdata/d...  \n7   https://storage.googleapis.com/kagglesdsdata/d...  \n8   https://storage.googleapis.com/kagglesdsdata/d...  \n9   https://storage.googleapis.com/kagglesdsdata/d...  \n10  https://storage.googleapis.com/kagglesdsdata/d...  \n11  https://storage.googleapis.com/kagglesdsdata/d...  \n12  https://storage.googleapis.com/kagglesdsdata/d...  \n13  https://storage.googleapis.com/kagglesdsdata/d...  \n14  https://storage.googleapis.com/kagglesdsdata/d...  \n15  https://storage.googleapis.com/kagglesdsdata/d...  \n16  https://storage.googleapis.com/kagglesdsdata/d...  \n17  https://storage.googleapis.com/kagglesdsdata/d...  \n18  https://storage.googleapis.com/kagglesdsdata/d...  \n19  https://storage.googleapis.com/kagglesdsdata/d...  ",
            "text/html": "<div>\n<style scoped>\n    .dataframe tbody tr th:only-of-type {\n        vertical-align: middle;\n    }\n\n    .dataframe tbody tr th {\n        vertical-align: top;\n    }\n\n    .dataframe thead th {\n        text-align: right;\n    }\n</style>\n<table border=\"1\" class=\"dataframe\">\n  <thead>\n    <tr style=\"text-align: right;\">\n      <th></th>\n      <th>id</th>\n      <th>filename</th>\n      <th>type</th>\n      <th>link</th>\n    </tr>\n  </thead>\n  <tbody>\n    <tr>\n      <th>0</th>\n      <td>Te-glTr_0000</td>\n      <td>Te-glTr_0000.jpg</td>\n      <td>glioma</td>\n      <td>https://storage.googleapis.com/kagglesdsdata/d...</td>\n    </tr>\n    <tr>\n      <th>1</th>\n      <td>Te-glTr_0001</td>\n      <td>Te-glTr_0001.jpg</td>\n      <td>glioma</td>\n      <td>https://storage.googleapis.com/kagglesdsdata/d...</td>\n    </tr>\n    <tr>\n      <th>2</th>\n      <td>Te-glTr_0002</td>\n      <td>Te-glTr_0002.jpg</td>\n      <td>glioma</td>\n      <td>https://storage.googleapis.com/kagglesdsdata/d...</td>\n    </tr>\n    <tr>\n      <th>3</th>\n      <td>Te-glTr_0003</td>\n      <td>Te-glTr_0003.jpg</td>\n      <td>glioma</td>\n      <td>https://storage.googleapis.com/kagglesdsdata/d...</td>\n    </tr>\n    <tr>\n      <th>4</th>\n      <td>Te-glTr_0004</td>\n      <td>Te-glTr_0004.jpg</td>\n      <td>glioma</td>\n      <td>https://storage.googleapis.com/kagglesdsdata/d...</td>\n    </tr>\n    <tr>\n      <th>5</th>\n      <td>Te-meTr_0000</td>\n      <td>Te-meTr_0000.jpg</td>\n      <td>meningioma</td>\n      <td>https://storage.googleapis.com/kagglesdsdata/d...</td>\n    </tr>\n    <tr>\n      <th>6</th>\n      <td>Te-meTr_0001</td>\n      <td>Te-meTr_0001.jpg</td>\n      <td>meningioma</td>\n      <td>https://storage.googleapis.com/kagglesdsdata/d...</td>\n    </tr>\n    <tr>\n      <th>7</th>\n      <td>Te-meTr_0002</td>\n      <td>Te-meTr_0002.jpg</td>\n      <td>meningioma</td>\n      <td>https://storage.googleapis.com/kagglesdsdata/d...</td>\n    </tr>\n    <tr>\n      <th>8</th>\n      <td>Te-meTr_0003</td>\n      <td>Te-meTr_0003.jpg</td>\n      <td>meningioma</td>\n      <td>https://storage.googleapis.com/kagglesdsdata/d...</td>\n    </tr>\n    <tr>\n      <th>9</th>\n      <td>Te-meTr_0004</td>\n      <td>Te-meTr_0004.jpg</td>\n      <td>meningioma</td>\n      <td>https://storage.googleapis.com/kagglesdsdata/d...</td>\n    </tr>\n    <tr>\n      <th>10</th>\n      <td>Te-noTr_0000</td>\n      <td>Te-noTr_0000.jpg</td>\n      <td>notumor</td>\n      <td>https://storage.googleapis.com/kagglesdsdata/d...</td>\n    </tr>\n    <tr>\n      <th>11</th>\n      <td>Te-noTr_0001</td>\n      <td>Te-noTr_0001.jpg</td>\n      <td>notumor</td>\n      <td>https://storage.googleapis.com/kagglesdsdata/d...</td>\n    </tr>\n    <tr>\n      <th>12</th>\n      <td>Te-noTr_0002</td>\n      <td>Te-noTr_0002.jpg</td>\n      <td>notumor</td>\n      <td>https://storage.googleapis.com/kagglesdsdata/d...</td>\n    </tr>\n    <tr>\n      <th>13</th>\n      <td>Te-noTr_0003</td>\n      <td>Te-noTr_0003.jpg</td>\n      <td>notumor</td>\n      <td>https://storage.googleapis.com/kagglesdsdata/d...</td>\n    </tr>\n    <tr>\n      <th>14</th>\n      <td>Te-noTr_0004</td>\n      <td>Te-noTr_0004.jpg</td>\n      <td>notumor</td>\n      <td>https://storage.googleapis.com/kagglesdsdata/d...</td>\n    </tr>\n    <tr>\n      <th>15</th>\n      <td>Te-piTr_0000</td>\n      <td>Te-piTr_0000.jpg</td>\n      <td>pituitary</td>\n      <td>https://storage.googleapis.com/kagglesdsdata/d...</td>\n    </tr>\n    <tr>\n      <th>16</th>\n      <td>Te-piTr_0001</td>\n      <td>Te-piTr_0001.jpg</td>\n      <td>pituitary</td>\n      <td>https://storage.googleapis.com/kagglesdsdata/d...</td>\n    </tr>\n    <tr>\n      <th>17</th>\n      <td>Te-piTr_0002</td>\n      <td>Te-piTr_0002.jpg</td>\n      <td>pituitary</td>\n      <td>https://storage.googleapis.com/kagglesdsdata/d...</td>\n    </tr>\n    <tr>\n      <th>18</th>\n      <td>Te-piTr_0003</td>\n      <td>Te-piTr_0003.jpg</td>\n      <td>pituitary</td>\n      <td>https://storage.googleapis.com/kagglesdsdata/d...</td>\n    </tr>\n    <tr>\n      <th>19</th>\n      <td>Te-piTr_0004</td>\n      <td>Te-piTr_0004.jpg</td>\n      <td>pituitary</td>\n      <td>https://storage.googleapis.com/kagglesdsdata/d...</td>\n    </tr>\n  </tbody>\n</table>\n</div>"
          },
          "metadata": {}
        }
      ]
    },
    {
      "cell_type": "code",
      "source": [
        "img_df.size"
      ],
      "metadata": {
        "execution": {
          "iopub.status.busy": "2023-09-26T13:11:20.299782Z",
          "iopub.execute_input": "2023-09-26T13:11:20.300135Z",
          "iopub.status.idle": "2023-09-26T13:11:20.314430Z",
          "shell.execute_reply.started": "2023-09-26T13:11:20.300103Z",
          "shell.execute_reply": "2023-09-26T13:11:20.313429Z"
        },
        "trusted": true,
        "id": "yn5bCqh0p_QT",
        "outputId": "a20b3a9c-ddf6-4637-8506-f59f31de5210"
      },
      "execution_count": null,
      "outputs": [
        {
          "execution_count": 7,
          "output_type": "execute_result",
          "data": {
            "text/plain": "80"
          },
          "metadata": {}
        }
      ]
    },
    {
      "cell_type": "code",
      "source": [
        "img_df.shape"
      ],
      "metadata": {
        "execution": {
          "iopub.status.busy": "2023-09-26T13:11:20.316050Z",
          "iopub.execute_input": "2023-09-26T13:11:20.316422Z",
          "iopub.status.idle": "2023-09-26T13:11:20.331412Z",
          "shell.execute_reply.started": "2023-09-26T13:11:20.316392Z",
          "shell.execute_reply": "2023-09-26T13:11:20.330527Z"
        },
        "trusted": true,
        "id": "au8EWX_Ip_QT",
        "outputId": "c569d3f8-9bbc-454b-94c8-08fc28e1d210"
      },
      "execution_count": null,
      "outputs": [
        {
          "execution_count": 8,
          "output_type": "execute_result",
          "data": {
            "text/plain": "(20, 4)"
          },
          "metadata": {}
        }
      ]
    },
    {
      "cell_type": "code",
      "source": [
        "img_files = os.listdir(img_path)\n",
        "img_files"
      ],
      "metadata": {
        "execution": {
          "iopub.status.busy": "2023-09-26T13:11:20.332609Z",
          "iopub.execute_input": "2023-09-26T13:11:20.333529Z",
          "iopub.status.idle": "2023-09-26T13:11:20.349909Z",
          "shell.execute_reply.started": "2023-09-26T13:11:20.333495Z",
          "shell.execute_reply": "2023-09-26T13:11:20.348959Z"
        },
        "trusted": true,
        "id": "SsL3hh7qp_QV",
        "outputId": "493c6f39-c7e1-4be7-c3cf-953bae5a303c"
      },
      "execution_count": null,
      "outputs": [
        {
          "execution_count": 9,
          "output_type": "execute_result",
          "data": {
            "text/plain": "['Te-noTr_0002.jpg',\n 'Te-glTr_0001.jpg',\n 'Te-piTr_0000.jpg',\n 'Te-meTr_0004.jpg',\n 'Te-piTr_0002.jpg',\n 'Te-glTr_0003.jpg',\n 'Te-noTr_0001.jpg',\n 'Te-noTr_0000.jpg',\n 'Te-meTr_0003.jpg',\n 'Te-piTr_0004.jpg',\n 'Te-glTr_0000.jpg',\n 'Te-meTr_0002.jpg',\n 'Te-piTr_0003.jpg',\n 'Te-noTr_0003.jpg',\n 'Te-glTr_0002.jpg',\n 'Te-meTr_0001.jpg',\n 'Te-meTr_0000.jpg',\n 'Te-piTr_0001.jpg',\n 'Te-noTr_0004.jpg',\n 'Te-glTr_0004.jpg']"
          },
          "metadata": {}
        }
      ]
    },
    {
      "cell_type": "code",
      "source": [
        "img_df['present'] = img_df['filename'].apply(lambda x:x in img_files)\n",
        "img_df"
      ],
      "metadata": {
        "execution": {
          "iopub.status.busy": "2023-09-26T13:11:20.353135Z",
          "iopub.execute_input": "2023-09-26T13:11:20.353959Z",
          "iopub.status.idle": "2023-09-26T13:11:20.375541Z",
          "shell.execute_reply.started": "2023-09-26T13:11:20.353920Z",
          "shell.execute_reply": "2023-09-26T13:11:20.374042Z"
        },
        "trusted": true,
        "id": "cFll7b-Dp_QW",
        "outputId": "8a593b6d-ca5c-4fe0-db03-d03e8c7368d0"
      },
      "execution_count": null,
      "outputs": [
        {
          "execution_count": 10,
          "output_type": "execute_result",
          "data": {
            "text/plain": "              id          filename        type  \\\n0   Te-glTr_0000  Te-glTr_0000.jpg      glioma   \n1   Te-glTr_0001  Te-glTr_0001.jpg      glioma   \n2   Te-glTr_0002  Te-glTr_0002.jpg      glioma   \n3   Te-glTr_0003  Te-glTr_0003.jpg      glioma   \n4   Te-glTr_0004  Te-glTr_0004.jpg      glioma   \n5   Te-meTr_0000  Te-meTr_0000.jpg  meningioma   \n6   Te-meTr_0001  Te-meTr_0001.jpg  meningioma   \n7   Te-meTr_0002  Te-meTr_0002.jpg  meningioma   \n8   Te-meTr_0003  Te-meTr_0003.jpg  meningioma   \n9   Te-meTr_0004  Te-meTr_0004.jpg  meningioma   \n10  Te-noTr_0000  Te-noTr_0000.jpg     notumor   \n11  Te-noTr_0001  Te-noTr_0001.jpg     notumor   \n12  Te-noTr_0002  Te-noTr_0002.jpg     notumor   \n13  Te-noTr_0003  Te-noTr_0003.jpg     notumor   \n14  Te-noTr_0004  Te-noTr_0004.jpg     notumor   \n15  Te-piTr_0000  Te-piTr_0000.jpg   pituitary   \n16  Te-piTr_0001  Te-piTr_0001.jpg   pituitary   \n17  Te-piTr_0002  Te-piTr_0002.jpg   pituitary   \n18  Te-piTr_0003  Te-piTr_0003.jpg   pituitary   \n19  Te-piTr_0004  Te-piTr_0004.jpg   pituitary   \n\n                                                 link  present  \n0   https://storage.googleapis.com/kagglesdsdata/d...     True  \n1   https://storage.googleapis.com/kagglesdsdata/d...     True  \n2   https://storage.googleapis.com/kagglesdsdata/d...     True  \n3   https://storage.googleapis.com/kagglesdsdata/d...     True  \n4   https://storage.googleapis.com/kagglesdsdata/d...     True  \n5   https://storage.googleapis.com/kagglesdsdata/d...     True  \n6   https://storage.googleapis.com/kagglesdsdata/d...     True  \n7   https://storage.googleapis.com/kagglesdsdata/d...     True  \n8   https://storage.googleapis.com/kagglesdsdata/d...     True  \n9   https://storage.googleapis.com/kagglesdsdata/d...     True  \n10  https://storage.googleapis.com/kagglesdsdata/d...     True  \n11  https://storage.googleapis.com/kagglesdsdata/d...     True  \n12  https://storage.googleapis.com/kagglesdsdata/d...     True  \n13  https://storage.googleapis.com/kagglesdsdata/d...     True  \n14  https://storage.googleapis.com/kagglesdsdata/d...     True  \n15  https://storage.googleapis.com/kagglesdsdata/d...     True  \n16  https://storage.googleapis.com/kagglesdsdata/d...     True  \n17  https://storage.googleapis.com/kagglesdsdata/d...     True  \n18  https://storage.googleapis.com/kagglesdsdata/d...     True  \n19  https://storage.googleapis.com/kagglesdsdata/d...     True  ",
            "text/html": "<div>\n<style scoped>\n    .dataframe tbody tr th:only-of-type {\n        vertical-align: middle;\n    }\n\n    .dataframe tbody tr th {\n        vertical-align: top;\n    }\n\n    .dataframe thead th {\n        text-align: right;\n    }\n</style>\n<table border=\"1\" class=\"dataframe\">\n  <thead>\n    <tr style=\"text-align: right;\">\n      <th></th>\n      <th>id</th>\n      <th>filename</th>\n      <th>type</th>\n      <th>link</th>\n      <th>present</th>\n    </tr>\n  </thead>\n  <tbody>\n    <tr>\n      <th>0</th>\n      <td>Te-glTr_0000</td>\n      <td>Te-glTr_0000.jpg</td>\n      <td>glioma</td>\n      <td>https://storage.googleapis.com/kagglesdsdata/d...</td>\n      <td>True</td>\n    </tr>\n    <tr>\n      <th>1</th>\n      <td>Te-glTr_0001</td>\n      <td>Te-glTr_0001.jpg</td>\n      <td>glioma</td>\n      <td>https://storage.googleapis.com/kagglesdsdata/d...</td>\n      <td>True</td>\n    </tr>\n    <tr>\n      <th>2</th>\n      <td>Te-glTr_0002</td>\n      <td>Te-glTr_0002.jpg</td>\n      <td>glioma</td>\n      <td>https://storage.googleapis.com/kagglesdsdata/d...</td>\n      <td>True</td>\n    </tr>\n    <tr>\n      <th>3</th>\n      <td>Te-glTr_0003</td>\n      <td>Te-glTr_0003.jpg</td>\n      <td>glioma</td>\n      <td>https://storage.googleapis.com/kagglesdsdata/d...</td>\n      <td>True</td>\n    </tr>\n    <tr>\n      <th>4</th>\n      <td>Te-glTr_0004</td>\n      <td>Te-glTr_0004.jpg</td>\n      <td>glioma</td>\n      <td>https://storage.googleapis.com/kagglesdsdata/d...</td>\n      <td>True</td>\n    </tr>\n    <tr>\n      <th>5</th>\n      <td>Te-meTr_0000</td>\n      <td>Te-meTr_0000.jpg</td>\n      <td>meningioma</td>\n      <td>https://storage.googleapis.com/kagglesdsdata/d...</td>\n      <td>True</td>\n    </tr>\n    <tr>\n      <th>6</th>\n      <td>Te-meTr_0001</td>\n      <td>Te-meTr_0001.jpg</td>\n      <td>meningioma</td>\n      <td>https://storage.googleapis.com/kagglesdsdata/d...</td>\n      <td>True</td>\n    </tr>\n    <tr>\n      <th>7</th>\n      <td>Te-meTr_0002</td>\n      <td>Te-meTr_0002.jpg</td>\n      <td>meningioma</td>\n      <td>https://storage.googleapis.com/kagglesdsdata/d...</td>\n      <td>True</td>\n    </tr>\n    <tr>\n      <th>8</th>\n      <td>Te-meTr_0003</td>\n      <td>Te-meTr_0003.jpg</td>\n      <td>meningioma</td>\n      <td>https://storage.googleapis.com/kagglesdsdata/d...</td>\n      <td>True</td>\n    </tr>\n    <tr>\n      <th>9</th>\n      <td>Te-meTr_0004</td>\n      <td>Te-meTr_0004.jpg</td>\n      <td>meningioma</td>\n      <td>https://storage.googleapis.com/kagglesdsdata/d...</td>\n      <td>True</td>\n    </tr>\n    <tr>\n      <th>10</th>\n      <td>Te-noTr_0000</td>\n      <td>Te-noTr_0000.jpg</td>\n      <td>notumor</td>\n      <td>https://storage.googleapis.com/kagglesdsdata/d...</td>\n      <td>True</td>\n    </tr>\n    <tr>\n      <th>11</th>\n      <td>Te-noTr_0001</td>\n      <td>Te-noTr_0001.jpg</td>\n      <td>notumor</td>\n      <td>https://storage.googleapis.com/kagglesdsdata/d...</td>\n      <td>True</td>\n    </tr>\n    <tr>\n      <th>12</th>\n      <td>Te-noTr_0002</td>\n      <td>Te-noTr_0002.jpg</td>\n      <td>notumor</td>\n      <td>https://storage.googleapis.com/kagglesdsdata/d...</td>\n      <td>True</td>\n    </tr>\n    <tr>\n      <th>13</th>\n      <td>Te-noTr_0003</td>\n      <td>Te-noTr_0003.jpg</td>\n      <td>notumor</td>\n      <td>https://storage.googleapis.com/kagglesdsdata/d...</td>\n      <td>True</td>\n    </tr>\n    <tr>\n      <th>14</th>\n      <td>Te-noTr_0004</td>\n      <td>Te-noTr_0004.jpg</td>\n      <td>notumor</td>\n      <td>https://storage.googleapis.com/kagglesdsdata/d...</td>\n      <td>True</td>\n    </tr>\n    <tr>\n      <th>15</th>\n      <td>Te-piTr_0000</td>\n      <td>Te-piTr_0000.jpg</td>\n      <td>pituitary</td>\n      <td>https://storage.googleapis.com/kagglesdsdata/d...</td>\n      <td>True</td>\n    </tr>\n    <tr>\n      <th>16</th>\n      <td>Te-piTr_0001</td>\n      <td>Te-piTr_0001.jpg</td>\n      <td>pituitary</td>\n      <td>https://storage.googleapis.com/kagglesdsdata/d...</td>\n      <td>True</td>\n    </tr>\n    <tr>\n      <th>17</th>\n      <td>Te-piTr_0002</td>\n      <td>Te-piTr_0002.jpg</td>\n      <td>pituitary</td>\n      <td>https://storage.googleapis.com/kagglesdsdata/d...</td>\n      <td>True</td>\n    </tr>\n    <tr>\n      <th>18</th>\n      <td>Te-piTr_0003</td>\n      <td>Te-piTr_0003.jpg</td>\n      <td>pituitary</td>\n      <td>https://storage.googleapis.com/kagglesdsdata/d...</td>\n      <td>True</td>\n    </tr>\n    <tr>\n      <th>19</th>\n      <td>Te-piTr_0004</td>\n      <td>Te-piTr_0004.jpg</td>\n      <td>pituitary</td>\n      <td>https://storage.googleapis.com/kagglesdsdata/d...</td>\n      <td>True</td>\n    </tr>\n  </tbody>\n</table>\n</div>"
          },
          "metadata": {}
        }
      ]
    },
    {
      "cell_type": "code",
      "source": [
        "img_df = img_df[img_df['present']].reset_index(drop=True)"
      ],
      "metadata": {
        "execution": {
          "iopub.status.busy": "2023-09-26T13:11:20.378052Z",
          "iopub.execute_input": "2023-09-26T13:11:20.378525Z",
          "iopub.status.idle": "2023-09-26T13:11:20.387576Z",
          "shell.execute_reply.started": "2023-09-26T13:11:20.378489Z",
          "shell.execute_reply": "2023-09-26T13:11:20.385926Z"
        },
        "trusted": true,
        "id": "bPA3aA8Ip_QX"
      },
      "execution_count": null,
      "outputs": []
    },
    {
      "cell_type": "code",
      "source": [
        "img_df\n"
      ],
      "metadata": {
        "execution": {
          "iopub.status.busy": "2023-09-26T13:11:20.389523Z",
          "iopub.execute_input": "2023-09-26T13:11:20.390157Z",
          "iopub.status.idle": "2023-09-26T13:11:20.410300Z",
          "shell.execute_reply.started": "2023-09-26T13:11:20.390101Z",
          "shell.execute_reply": "2023-09-26T13:11:20.408419Z"
        },
        "trusted": true,
        "id": "IJcPao3np_QY",
        "outputId": "9c8b0270-dff3-4c52-8b80-c04467202d58"
      },
      "execution_count": null,
      "outputs": [
        {
          "execution_count": 12,
          "output_type": "execute_result",
          "data": {
            "text/plain": "              id          filename        type  \\\n0   Te-glTr_0000  Te-glTr_0000.jpg      glioma   \n1   Te-glTr_0001  Te-glTr_0001.jpg      glioma   \n2   Te-glTr_0002  Te-glTr_0002.jpg      glioma   \n3   Te-glTr_0003  Te-glTr_0003.jpg      glioma   \n4   Te-glTr_0004  Te-glTr_0004.jpg      glioma   \n5   Te-meTr_0000  Te-meTr_0000.jpg  meningioma   \n6   Te-meTr_0001  Te-meTr_0001.jpg  meningioma   \n7   Te-meTr_0002  Te-meTr_0002.jpg  meningioma   \n8   Te-meTr_0003  Te-meTr_0003.jpg  meningioma   \n9   Te-meTr_0004  Te-meTr_0004.jpg  meningioma   \n10  Te-noTr_0000  Te-noTr_0000.jpg     notumor   \n11  Te-noTr_0001  Te-noTr_0001.jpg     notumor   \n12  Te-noTr_0002  Te-noTr_0002.jpg     notumor   \n13  Te-noTr_0003  Te-noTr_0003.jpg     notumor   \n14  Te-noTr_0004  Te-noTr_0004.jpg     notumor   \n15  Te-piTr_0000  Te-piTr_0000.jpg   pituitary   \n16  Te-piTr_0001  Te-piTr_0001.jpg   pituitary   \n17  Te-piTr_0002  Te-piTr_0002.jpg   pituitary   \n18  Te-piTr_0003  Te-piTr_0003.jpg   pituitary   \n19  Te-piTr_0004  Te-piTr_0004.jpg   pituitary   \n\n                                                 link  present  \n0   https://storage.googleapis.com/kagglesdsdata/d...     True  \n1   https://storage.googleapis.com/kagglesdsdata/d...     True  \n2   https://storage.googleapis.com/kagglesdsdata/d...     True  \n3   https://storage.googleapis.com/kagglesdsdata/d...     True  \n4   https://storage.googleapis.com/kagglesdsdata/d...     True  \n5   https://storage.googleapis.com/kagglesdsdata/d...     True  \n6   https://storage.googleapis.com/kagglesdsdata/d...     True  \n7   https://storage.googleapis.com/kagglesdsdata/d...     True  \n8   https://storage.googleapis.com/kagglesdsdata/d...     True  \n9   https://storage.googleapis.com/kagglesdsdata/d...     True  \n10  https://storage.googleapis.com/kagglesdsdata/d...     True  \n11  https://storage.googleapis.com/kagglesdsdata/d...     True  \n12  https://storage.googleapis.com/kagglesdsdata/d...     True  \n13  https://storage.googleapis.com/kagglesdsdata/d...     True  \n14  https://storage.googleapis.com/kagglesdsdata/d...     True  \n15  https://storage.googleapis.com/kagglesdsdata/d...     True  \n16  https://storage.googleapis.com/kagglesdsdata/d...     True  \n17  https://storage.googleapis.com/kagglesdsdata/d...     True  \n18  https://storage.googleapis.com/kagglesdsdata/d...     True  \n19  https://storage.googleapis.com/kagglesdsdata/d...     True  ",
            "text/html": "<div>\n<style scoped>\n    .dataframe tbody tr th:only-of-type {\n        vertical-align: middle;\n    }\n\n    .dataframe tbody tr th {\n        vertical-align: top;\n    }\n\n    .dataframe thead th {\n        text-align: right;\n    }\n</style>\n<table border=\"1\" class=\"dataframe\">\n  <thead>\n    <tr style=\"text-align: right;\">\n      <th></th>\n      <th>id</th>\n      <th>filename</th>\n      <th>type</th>\n      <th>link</th>\n      <th>present</th>\n    </tr>\n  </thead>\n  <tbody>\n    <tr>\n      <th>0</th>\n      <td>Te-glTr_0000</td>\n      <td>Te-glTr_0000.jpg</td>\n      <td>glioma</td>\n      <td>https://storage.googleapis.com/kagglesdsdata/d...</td>\n      <td>True</td>\n    </tr>\n    <tr>\n      <th>1</th>\n      <td>Te-glTr_0001</td>\n      <td>Te-glTr_0001.jpg</td>\n      <td>glioma</td>\n      <td>https://storage.googleapis.com/kagglesdsdata/d...</td>\n      <td>True</td>\n    </tr>\n    <tr>\n      <th>2</th>\n      <td>Te-glTr_0002</td>\n      <td>Te-glTr_0002.jpg</td>\n      <td>glioma</td>\n      <td>https://storage.googleapis.com/kagglesdsdata/d...</td>\n      <td>True</td>\n    </tr>\n    <tr>\n      <th>3</th>\n      <td>Te-glTr_0003</td>\n      <td>Te-glTr_0003.jpg</td>\n      <td>glioma</td>\n      <td>https://storage.googleapis.com/kagglesdsdata/d...</td>\n      <td>True</td>\n    </tr>\n    <tr>\n      <th>4</th>\n      <td>Te-glTr_0004</td>\n      <td>Te-glTr_0004.jpg</td>\n      <td>glioma</td>\n      <td>https://storage.googleapis.com/kagglesdsdata/d...</td>\n      <td>True</td>\n    </tr>\n    <tr>\n      <th>5</th>\n      <td>Te-meTr_0000</td>\n      <td>Te-meTr_0000.jpg</td>\n      <td>meningioma</td>\n      <td>https://storage.googleapis.com/kagglesdsdata/d...</td>\n      <td>True</td>\n    </tr>\n    <tr>\n      <th>6</th>\n      <td>Te-meTr_0001</td>\n      <td>Te-meTr_0001.jpg</td>\n      <td>meningioma</td>\n      <td>https://storage.googleapis.com/kagglesdsdata/d...</td>\n      <td>True</td>\n    </tr>\n    <tr>\n      <th>7</th>\n      <td>Te-meTr_0002</td>\n      <td>Te-meTr_0002.jpg</td>\n      <td>meningioma</td>\n      <td>https://storage.googleapis.com/kagglesdsdata/d...</td>\n      <td>True</td>\n    </tr>\n    <tr>\n      <th>8</th>\n      <td>Te-meTr_0003</td>\n      <td>Te-meTr_0003.jpg</td>\n      <td>meningioma</td>\n      <td>https://storage.googleapis.com/kagglesdsdata/d...</td>\n      <td>True</td>\n    </tr>\n    <tr>\n      <th>9</th>\n      <td>Te-meTr_0004</td>\n      <td>Te-meTr_0004.jpg</td>\n      <td>meningioma</td>\n      <td>https://storage.googleapis.com/kagglesdsdata/d...</td>\n      <td>True</td>\n    </tr>\n    <tr>\n      <th>10</th>\n      <td>Te-noTr_0000</td>\n      <td>Te-noTr_0000.jpg</td>\n      <td>notumor</td>\n      <td>https://storage.googleapis.com/kagglesdsdata/d...</td>\n      <td>True</td>\n    </tr>\n    <tr>\n      <th>11</th>\n      <td>Te-noTr_0001</td>\n      <td>Te-noTr_0001.jpg</td>\n      <td>notumor</td>\n      <td>https://storage.googleapis.com/kagglesdsdata/d...</td>\n      <td>True</td>\n    </tr>\n    <tr>\n      <th>12</th>\n      <td>Te-noTr_0002</td>\n      <td>Te-noTr_0002.jpg</td>\n      <td>notumor</td>\n      <td>https://storage.googleapis.com/kagglesdsdata/d...</td>\n      <td>True</td>\n    </tr>\n    <tr>\n      <th>13</th>\n      <td>Te-noTr_0003</td>\n      <td>Te-noTr_0003.jpg</td>\n      <td>notumor</td>\n      <td>https://storage.googleapis.com/kagglesdsdata/d...</td>\n      <td>True</td>\n    </tr>\n    <tr>\n      <th>14</th>\n      <td>Te-noTr_0004</td>\n      <td>Te-noTr_0004.jpg</td>\n      <td>notumor</td>\n      <td>https://storage.googleapis.com/kagglesdsdata/d...</td>\n      <td>True</td>\n    </tr>\n    <tr>\n      <th>15</th>\n      <td>Te-piTr_0000</td>\n      <td>Te-piTr_0000.jpg</td>\n      <td>pituitary</td>\n      <td>https://storage.googleapis.com/kagglesdsdata/d...</td>\n      <td>True</td>\n    </tr>\n    <tr>\n      <th>16</th>\n      <td>Te-piTr_0001</td>\n      <td>Te-piTr_0001.jpg</td>\n      <td>pituitary</td>\n      <td>https://storage.googleapis.com/kagglesdsdata/d...</td>\n      <td>True</td>\n    </tr>\n    <tr>\n      <th>17</th>\n      <td>Te-piTr_0002</td>\n      <td>Te-piTr_0002.jpg</td>\n      <td>pituitary</td>\n      <td>https://storage.googleapis.com/kagglesdsdata/d...</td>\n      <td>True</td>\n    </tr>\n    <tr>\n      <th>18</th>\n      <td>Te-piTr_0003</td>\n      <td>Te-piTr_0003.jpg</td>\n      <td>pituitary</td>\n      <td>https://storage.googleapis.com/kagglesdsdata/d...</td>\n      <td>True</td>\n    </tr>\n    <tr>\n      <th>19</th>\n      <td>Te-piTr_0004</td>\n      <td>Te-piTr_0004.jpg</td>\n      <td>pituitary</td>\n      <td>https://storage.googleapis.com/kagglesdsdata/d...</td>\n      <td>True</td>\n    </tr>\n  </tbody>\n</table>\n</div>"
          },
          "metadata": {}
        }
      ]
    },
    {
      "cell_type": "code",
      "source": [
        "#img_df = img_df.sample"
      ],
      "metadata": {
        "execution": {
          "iopub.status.busy": "2023-09-26T13:11:20.412024Z",
          "iopub.execute_input": "2023-09-26T13:11:20.412766Z",
          "iopub.status.idle": "2023-09-26T13:11:20.422194Z",
          "shell.execute_reply.started": "2023-09-26T13:11:20.412712Z",
          "shell.execute_reply": "2023-09-26T13:11:20.421198Z"
        },
        "trusted": true,
        "id": "RQL-PEXhp_QZ"
      },
      "execution_count": null,
      "outputs": []
    },
    {
      "cell_type": "code",
      "source": [
        "\n",
        "\n",
        "img_size = 60\n",
        "\n",
        "datagen = ImageDataGenerator(rescale=1/255.)\n",
        "\n",
        "generator = datagen.flow_from_dataframe(dataframe = img_df,\n",
        "                                       directory = img_path,\n",
        "                                       target_size = (img_size,img_size),\n",
        "                                       x_col = 'filename',\n",
        "                                       class_mode = None,\n",
        "                                       batch_size = 32,\n",
        "                                       shuffle = False,\n",
        "                                       classes= None)"
      ],
      "metadata": {
        "execution": {
          "iopub.status.busy": "2023-09-26T13:11:20.423903Z",
          "iopub.execute_input": "2023-09-26T13:11:20.424389Z",
          "iopub.status.idle": "2023-09-26T13:11:20.456121Z",
          "shell.execute_reply.started": "2023-09-26T13:11:20.424349Z",
          "shell.execute_reply": "2023-09-26T13:11:20.455173Z"
        },
        "trusted": true,
        "id": "nD0XU13sp_Qa",
        "outputId": "d083df3b-eb2a-49ca-9572-a64572ce7e5f"
      },
      "execution_count": null,
      "outputs": [
        {
          "name": "stdout",
          "text": "Found 20 validated image filenames.\n",
          "output_type": "stream"
        }
      ]
    },
    {
      "cell_type": "code",
      "source": [
        "base_model = VGG16(include_top=False, input_shape= (img_size,img_size,3))\n",
        "\n",
        "for layer in base_model.layers:\n",
        "    layer.trainable = False\n",
        "\n",
        "\n",
        "input_layer = Input(shape=(img_size,img_size,3))\n",
        "x= base_model(input_layer)\n",
        "output= GlobalAveragePooling2D()(x)\n",
        "\n",
        "embeddings = Model(inputs = input_layer, outputs= output)\n",
        "embeddings.summary()"
      ],
      "metadata": {
        "execution": {
          "iopub.status.busy": "2023-09-26T13:11:20.457452Z",
          "iopub.execute_input": "2023-09-26T13:11:20.457786Z",
          "iopub.status.idle": "2023-09-26T13:11:24.842405Z",
          "shell.execute_reply.started": "2023-09-26T13:11:20.457758Z",
          "shell.execute_reply": "2023-09-26T13:11:24.841146Z"
        },
        "trusted": true,
        "id": "0f4VQxLZp_Qb",
        "outputId": "74486b78-3dcb-4921-a618-f2e9a4b3761e"
      },
      "execution_count": null,
      "outputs": [
        {
          "name": "stdout",
          "text": "Downloading data from https://storage.googleapis.com/tensorflow/keras-applications/vgg16/vgg16_weights_tf_dim_ordering_tf_kernels_notop.h5\n58889256/58889256 [==============================] - 3s 0us/step\nModel: \"model\"\n_________________________________________________________________\n Layer (type)                Output Shape              Param #   \n=================================================================\n input_2 (InputLayer)        [(None, 60, 60, 3)]       0         \n                                                                 \n vgg16 (Functional)          (None, 1, 1, 512)         14714688  \n                                                                 \n global_average_pooling2d (G  (None, 512)              0         \n lobalAveragePooling2D)                                          \n                                                                 \n=================================================================\nTotal params: 14,714,688\nTrainable params: 0\nNon-trainable params: 14,714,688\n_________________________________________________________________\n",
          "output_type": "stream"
        }
      ]
    },
    {
      "cell_type": "code",
      "source": [
        "X = embeddings.predict(generator, verbose=1)"
      ],
      "metadata": {
        "execution": {
          "iopub.status.busy": "2023-09-26T13:11:24.844819Z",
          "iopub.execute_input": "2023-09-26T13:11:24.845196Z",
          "iopub.status.idle": "2023-09-26T13:11:25.877482Z",
          "shell.execute_reply.started": "2023-09-26T13:11:24.845152Z",
          "shell.execute_reply": "2023-09-26T13:11:25.876355Z"
        },
        "trusted": true,
        "id": "UADzmhvnp_Qc",
        "outputId": "90f8af4b-dd95-43d2-aa93-1e564259a5e6"
      },
      "execution_count": null,
      "outputs": [
        {
          "name": "stdout",
          "text": "1/1 [==============================] - 1s 817ms/step\n",
          "output_type": "stream"
        }
      ]
    },
    {
      "cell_type": "code",
      "source": [
        "def read_img(image_path):\n",
        "    image = load_img(os.path.join(img_path,image_path),target_size=(img_size,img_size,3))\n",
        "    image = img_to_array(image)\n",
        "    image = image/255.\n",
        "    return image"
      ],
      "metadata": {
        "execution": {
          "iopub.status.busy": "2023-09-26T13:11:25.879021Z",
          "iopub.execute_input": "2023-09-26T13:11:25.879517Z",
          "iopub.status.idle": "2023-09-26T13:11:25.886492Z",
          "shell.execute_reply.started": "2023-09-26T13:11:25.879483Z",
          "shell.execute_reply": "2023-09-26T13:11:25.885481Z"
        },
        "trusted": true,
        "id": "l0VX3Kkzp_Qc"
      },
      "execution_count": null,
      "outputs": []
    },
    {
      "cell_type": "code",
      "source": [
        "import random\n",
        "from sklearn.neighbors import KNeighborsClassifier"
      ],
      "metadata": {
        "execution": {
          "iopub.status.busy": "2023-09-26T13:11:25.887878Z",
          "iopub.execute_input": "2023-09-26T13:11:25.888627Z",
          "iopub.status.idle": "2023-09-26T13:11:26.582673Z",
          "shell.execute_reply.started": "2023-09-26T13:11:25.888582Z",
          "shell.execute_reply": "2023-09-26T13:11:26.581491Z"
        },
        "trusted": true,
        "id": "u8kOsZiLp_Qc"
      },
      "execution_count": null,
      "outputs": []
    },
    {
      "cell_type": "code",
      "source": [
        "y = img_df['id']"
      ],
      "metadata": {
        "execution": {
          "iopub.status.busy": "2023-09-26T13:11:26.583996Z",
          "iopub.execute_input": "2023-09-26T13:11:26.584380Z",
          "iopub.status.idle": "2023-09-26T13:11:26.589805Z",
          "shell.execute_reply.started": "2023-09-26T13:11:26.584346Z",
          "shell.execute_reply": "2023-09-26T13:11:26.588436Z"
        },
        "trusted": true,
        "id": "PIOoycR7p_Qd"
      },
      "execution_count": null,
      "outputs": []
    },
    {
      "cell_type": "code",
      "source": [
        "nearest_neighbors = KNeighborsClassifier(n_neighbors = 7)\n",
        "nearest_neighbors.fit(X,y)"
      ],
      "metadata": {
        "execution": {
          "iopub.status.busy": "2023-09-26T13:11:26.591329Z",
          "iopub.execute_input": "2023-09-26T13:11:26.591797Z",
          "iopub.status.idle": "2023-09-26T13:11:26.618468Z",
          "shell.execute_reply.started": "2023-09-26T13:11:26.591755Z",
          "shell.execute_reply": "2023-09-26T13:11:26.617199Z"
        },
        "trusted": true,
        "id": "BG5Fx-cap_Qd",
        "outputId": "1767b7a9-035e-4ea3-9379-1ab6f096df1c"
      },
      "execution_count": null,
      "outputs": [
        {
          "execution_count": 20,
          "output_type": "execute_result",
          "data": {
            "text/plain": "KNeighborsClassifier(n_neighbors=7)",
            "text/html": "<style>#sk-container-id-1 {color: black;background-color: white;}#sk-container-id-1 pre{padding: 0;}#sk-container-id-1 div.sk-toggleable {background-color: white;}#sk-container-id-1 label.sk-toggleable__label {cursor: pointer;display: block;width: 100%;margin-bottom: 0;padding: 0.3em;box-sizing: border-box;text-align: center;}#sk-container-id-1 label.sk-toggleable__label-arrow:before {content: \"▸\";float: left;margin-right: 0.25em;color: #696969;}#sk-container-id-1 label.sk-toggleable__label-arrow:hover:before {color: black;}#sk-container-id-1 div.sk-estimator:hover label.sk-toggleable__label-arrow:before {color: black;}#sk-container-id-1 div.sk-toggleable__content {max-height: 0;max-width: 0;overflow: hidden;text-align: left;background-color: #f0f8ff;}#sk-container-id-1 div.sk-toggleable__content pre {margin: 0.2em;color: black;border-radius: 0.25em;background-color: #f0f8ff;}#sk-container-id-1 input.sk-toggleable__control:checked~div.sk-toggleable__content {max-height: 200px;max-width: 100%;overflow: auto;}#sk-container-id-1 input.sk-toggleable__control:checked~label.sk-toggleable__label-arrow:before {content: \"▾\";}#sk-container-id-1 div.sk-estimator input.sk-toggleable__control:checked~label.sk-toggleable__label {background-color: #d4ebff;}#sk-container-id-1 div.sk-label input.sk-toggleable__control:checked~label.sk-toggleable__label {background-color: #d4ebff;}#sk-container-id-1 input.sk-hidden--visually {border: 0;clip: rect(1px 1px 1px 1px);clip: rect(1px, 1px, 1px, 1px);height: 1px;margin: -1px;overflow: hidden;padding: 0;position: absolute;width: 1px;}#sk-container-id-1 div.sk-estimator {font-family: monospace;background-color: #f0f8ff;border: 1px dotted black;border-radius: 0.25em;box-sizing: border-box;margin-bottom: 0.5em;}#sk-container-id-1 div.sk-estimator:hover {background-color: #d4ebff;}#sk-container-id-1 div.sk-parallel-item::after {content: \"\";width: 100%;border-bottom: 1px solid gray;flex-grow: 1;}#sk-container-id-1 div.sk-label:hover label.sk-toggleable__label {background-color: #d4ebff;}#sk-container-id-1 div.sk-serial::before {content: \"\";position: absolute;border-left: 1px solid gray;box-sizing: border-box;top: 0;bottom: 0;left: 50%;z-index: 0;}#sk-container-id-1 div.sk-serial {display: flex;flex-direction: column;align-items: center;background-color: white;padding-right: 0.2em;padding-left: 0.2em;position: relative;}#sk-container-id-1 div.sk-item {position: relative;z-index: 1;}#sk-container-id-1 div.sk-parallel {display: flex;align-items: stretch;justify-content: center;background-color: white;position: relative;}#sk-container-id-1 div.sk-item::before, #sk-container-id-1 div.sk-parallel-item::before {content: \"\";position: absolute;border-left: 1px solid gray;box-sizing: border-box;top: 0;bottom: 0;left: 50%;z-index: -1;}#sk-container-id-1 div.sk-parallel-item {display: flex;flex-direction: column;z-index: 1;position: relative;background-color: white;}#sk-container-id-1 div.sk-parallel-item:first-child::after {align-self: flex-end;width: 50%;}#sk-container-id-1 div.sk-parallel-item:last-child::after {align-self: flex-start;width: 50%;}#sk-container-id-1 div.sk-parallel-item:only-child::after {width: 0;}#sk-container-id-1 div.sk-dashed-wrapped {border: 1px dashed gray;margin: 0 0.4em 0.5em 0.4em;box-sizing: border-box;padding-bottom: 0.4em;background-color: white;}#sk-container-id-1 div.sk-label label {font-family: monospace;font-weight: bold;display: inline-block;line-height: 1.2em;}#sk-container-id-1 div.sk-label-container {text-align: center;}#sk-container-id-1 div.sk-container {/* jupyter's `normalize.less` sets `[hidden] { display: none; }` but bootstrap.min.css set `[hidden] { display: none !important; }` so we also need the `!important` here to be able to override the default hidden behavior on the sphinx rendered scikit-learn.org. See: https://github.com/scikit-learn/scikit-learn/issues/21755 */display: inline-block !important;position: relative;}#sk-container-id-1 div.sk-text-repr-fallback {display: none;}</style><div id=\"sk-container-id-1\" class=\"sk-top-container\"><div class=\"sk-text-repr-fallback\"><pre>KNeighborsClassifier(n_neighbors=7)</pre><b>In a Jupyter environment, please rerun this cell to show the HTML representation or trust the notebook. <br />On GitHub, the HTML representation is unable to render, please try loading this page with nbviewer.org.</b></div><div class=\"sk-container\" hidden><div class=\"sk-item\"><div class=\"sk-estimator sk-toggleable\"><input class=\"sk-toggleable__control sk-hidden--visually\" id=\"sk-estimator-id-1\" type=\"checkbox\" checked><label for=\"sk-estimator-id-1\" class=\"sk-toggleable__label sk-toggleable__label-arrow\">KNeighborsClassifier</label><div class=\"sk-toggleable__content\"><pre>KNeighborsClassifier(n_neighbors=7)</pre></div></div></div></div></div>"
          },
          "metadata": {}
        }
      ]
    },
    {
      "cell_type": "code",
      "source": [
        "img_df = img_df.reset_index(drop=True)"
      ],
      "metadata": {
        "execution": {
          "iopub.status.busy": "2023-09-26T13:11:26.620032Z",
          "iopub.execute_input": "2023-09-26T13:11:26.620518Z",
          "iopub.status.idle": "2023-09-26T13:11:26.632631Z",
          "shell.execute_reply.started": "2023-09-26T13:11:26.620473Z",
          "shell.execute_reply": "2023-09-26T13:11:26.631140Z"
        },
        "trusted": true,
        "id": "Se67KuvSp_Qe"
      },
      "execution_count": null,
      "outputs": []
    },
    {
      "cell_type": "code",
      "source": [
        "for _ in range(1):\n",
        "    i = random.randint(0,len(img_df))\n",
        "    img1 = read_img(img_df.loc[i,'filename'])\n",
        "    dist, index = nearest_neighbors.kneighbors(X=X[i,:].reshape(1,-1))\n",
        "    plt.figure(figsize = (4 , 4))\n",
        "    plt.imshow(img1)\n",
        "    plt.title(\"input image\")\n",
        "    plt.axis('off')\n",
        "\n",
        "    plt.figure(figsize = (20 , 20))\n",
        "    for i in range(1,5):\n",
        "        plt.subplot(1 , 5, i)\n",
        "        plt.subplots_adjust(hspace = 0.5 , wspace = 0.3)\n",
        "        image = read_img(img_df.loc[index[0][i],'filename'])\n",
        "        plt.imshow(image)\n",
        "        plt.title(f'Similar Product #{i}')\n",
        "        plt.axis('off')"
      ],
      "metadata": {
        "execution": {
          "iopub.status.busy": "2023-09-26T13:11:26.634386Z",
          "iopub.execute_input": "2023-09-26T13:11:26.634944Z",
          "iopub.status.idle": "2023-09-26T13:11:27.314923Z",
          "shell.execute_reply.started": "2023-09-26T13:11:26.634902Z",
          "shell.execute_reply": "2023-09-26T13:11:27.313794Z"
        },
        "trusted": true,
        "id": "zpgkof4Sp_Qe",
        "outputId": "16621dc4-294e-4dbc-aa22-3a00cdbfe83d"
      },
      "execution_count": null,
      "outputs": [
        {
          "output_type": "display_data",
          "data": {
            "text/plain": "<Figure size 400x400 with 1 Axes>",
            "image/png": "[encoded data removed]"
          },
          "metadata": {}
        },
        {
          "output_type": "display_data",
          "data": {
            "text/plain": "<Figure size 2000x2000 with 4 Axes>",
            "image/png": "[encoded data removed]"
          },
          "metadata": {}
        }
      ]
    },
    {
      "cell_type": "code",
      "source": [],
      "metadata": {
        "id": "brfcYEXYp_Qf"
      },
      "execution_count": null,
      "outputs": []
    }
  ]
}